{
 "cells": [
  {
   "cell_type": "markdown",
   "metadata": {},
   "source": [
    "if elif else statement"
   ]
  },
  {
   "cell_type": "code",
   "execution_count": 7,
   "metadata": {},
   "outputs": [
    {
     "name": "stdout",
     "output_type": "stream",
     "text": [
      "Enter your marks :78\n",
      "Your marks are 78 and your grade is B\n"
     ]
    }
   ],
   "source": [
    "marks = int(input(\"Enter your marks :\"))\n",
    "grade = \" \"\n",
    "if marks>=90:\n",
    "    grade = \"A+\"\n",
    "elif marks>=80:\n",
    "    grade = \"A\"\n",
    "elif marks>=70:\n",
    "    grade = \"B\"\n",
    "elif marks>=60:\n",
    "    grade = \"c\"\n",
    "elif marks>=50:\n",
    "    grade = \"D\"\n",
    "else:\n",
    "    print(\"You are ungraded please try again\")\n",
    "print(f\"Your marks are {marks} and your grade is {grade}\")"
   ]
  },
  {
   "cell_type": "code",
   "execution_count": 9,
   "metadata": {},
   "outputs": [
    {
     "name": "stdout",
     "output_type": "stream",
     "text": [
      "Enter your percentage :67\n",
      "Your percentage is 67 and your grade is c\n"
     ]
    }
   ],
   "source": [
    "percentage = int(input(\"Enter your percentage :\"))\n",
    "grade = \" \"\n",
    "if percentage>=90:\n",
    "    grade = \"A+\"\n",
    "elif percentage>=80:\n",
    "    grade = \"A\"\n",
    "elif percentage>=70:\n",
    "    grade = \"B\"\n",
    "elif percentage>=60:\n",
    "    grade = \"c\"\n",
    "elif percentage>=50:\n",
    "    grade = \"D\"\n",
    "else:\n",
    "    print(\"You are ungraded please try again\")\n",
    "print(f\"Your percentage is {percentage} and your grade is {grade}\")"
   ]
  },
  {
   "cell_type": "code",
   "execution_count": 10,
   "metadata": {},
   "outputs": [
    {
     "name": "stdout",
     "output_type": "stream",
     "text": [
      "education@piaic.org\n"
     ]
    }
   ],
   "source": [
    "print(\"education@piaic.org\")"
   ]
  },
  {
   "cell_type": "code",
   "execution_count": null,
   "metadata": {},
   "outputs": [],
   "source": []
  },
  {
   "cell_type": "code",
   "execution_count": 12,
   "metadata": {},
   "outputs": [
    {
     "name": "stdout",
     "output_type": "stream",
     "text": [
      "do you have cnic?yes\n",
      "is my name in list?yes\n",
      "caste your vote\n"
     ]
    }
   ],
   "source": [
    "cnic = input(\"do you have cnic?\")\n",
    "# this is a comment\n",
    "nameinlist = input(\"is my name in list?\")\n",
    "\n",
    "if (cnic=='yes') and (nameinlist=='yes'):\n",
    "    print(\"caste your vote\")\n",
    "else:\n",
    "    '''uertuegtngtrgngingnfkfnggkjkdknngkngdfv   \n",
    "    mkvfvmkmfk\n",
    "    vkmkmvkf\n",
    "    vkmfkvfkv\n",
    "    vkfvkmv'''       #this is comment to write more than one line  (ctrl forwrd slash(/))\n",
    "    print(\"you cannot\")"
   ]
  },
  {
   "cell_type": "markdown",
   "metadata": {},
   "source": [
    "use # to wrtie comments"
   ]
  },
  {
   "cell_type": "code",
   "execution_count": null,
   "metadata": {},
   "outputs": [],
   "source": [
    "# percentage = int(input(\"Enter your percentage :\"))\n",
    "# grade = \" \"\n",
    "# if percentage>=90:\n",
    "#     grade = \"A+\"\n",
    "# elif percentage>=80:\n",
    "#     grade = \"A\"\n",
    "elif percentage>=70:\n",
    "#     grade = \"B\"\n",
    "# elif percentage>=60:\n",
    "#     grade = \"c\"\n",
    "# elif percentage>=50:\n",
    "#     grade = \"D\"\n",
    "# else:\n",
    "#     print(\"You are ungraded please try again\")\n",
    "# print(f\"Your percentage is {percentage} and your grade is {grade}\")"
   ]
  },
  {
   "cell_type": "markdown",
   "metadata": {},
   "source": [
    "list"
   ]
  },
  {
   "cell_type": "code",
   "execution_count": null,
   "metadata": {},
   "outputs": [],
   "source": [
    "name = \"nasir\""
   ]
  },
  {
   "cell_type": "code",
   "execution_count": null,
   "metadata": {},
   "outputs": [],
   "source": [
    "student1 = \"asad\"\n",
    "student2 = \"saad\""
   ]
  },
  {
   "cell_type": "code",
   "execution_count": null,
   "metadata": {},
   "outputs": [],
   "source": [
    "ek se zada variable daalna hy"
   ]
  },
  {
   "cell_type": "code",
   "execution_count": 14,
   "metadata": {},
   "outputs": [
    {
     "data": {
      "text/plain": [
       "['asad', 'nasir', 'aisha', 'fatima']"
      ]
     },
     "execution_count": 14,
     "metadata": {},
     "output_type": "execute_result"
    }
   ],
   "source": [
    "students = [\"asad\", \"nasir\", \"aisha\", \"fatima\"]\n",
    "students"
   ]
  },
  {
   "cell_type": "code",
   "execution_count": 26,
   "metadata": {},
   "outputs": [],
   "source": [
    "students = [\"asad\", \"nasir\", \"aisha\", \"fatima\"]\n",
    "#index       0        1         2        3"
   ]
  },
  {
   "cell_type": "code",
   "execution_count": 18,
   "metadata": {},
   "outputs": [
    {
     "data": {
      "text/plain": [
       "['strig', 34, 34.5, True]"
      ]
     },
     "execution_count": 18,
     "metadata": {},
     "output_type": "execute_result"
    }
   ],
   "source": [
    "list1 = ['strig', 34, 34.5, True]\n",
    "list1"
   ]
  },
  {
   "cell_type": "code",
   "execution_count": 19,
   "metadata": {},
   "outputs": [
    {
     "data": {
      "text/plain": [
       "['asad', 'nasir', 'aisha', 'fatima']"
      ]
     },
     "execution_count": 19,
     "metadata": {},
     "output_type": "execute_result"
    }
   ],
   "source": [
    "students"
   ]
  },
  {
   "cell_type": "code",
   "execution_count": 20,
   "metadata": {},
   "outputs": [
    {
     "data": {
      "text/plain": [
       "['asad', 'nasir', 'aisha', 'fatima', 'Maryam']"
      ]
     },
     "execution_count": 20,
     "metadata": {},
     "output_type": "execute_result"
    }
   ],
   "source": [
    "students.append(\"Maryam\")  # to add in last\n",
    "students"
   ]
  },
  {
   "cell_type": "code",
   "execution_count": 21,
   "metadata": {},
   "outputs": [],
   "source": [
    "students.insert(3,\"abnc\") # to add in given no."
   ]
  },
  {
   "cell_type": "code",
   "execution_count": 22,
   "metadata": {},
   "outputs": [
    {
     "data": {
      "text/plain": [
       "['asad', 'nasir', 'aisha', 'abnc', 'fatima', 'Maryam']"
      ]
     },
     "execution_count": 22,
     "metadata": {},
     "output_type": "execute_result"
    }
   ],
   "source": [
    "students"
   ]
  },
  {
   "cell_type": "code",
   "execution_count": 23,
   "metadata": {},
   "outputs": [],
   "source": [
    "del students[2]"
   ]
  },
  {
   "cell_type": "code",
   "execution_count": 24,
   "metadata": {},
   "outputs": [],
   "source": [
    "students[2]=\"Ayeshaaa\""
   ]
  },
  {
   "cell_type": "code",
   "execution_count": 25,
   "metadata": {},
   "outputs": [
    {
     "data": {
      "text/plain": [
       "['asad', 'nasir', 'Ayeshaaa', 'fatima', 'Maryam']"
      ]
     },
     "execution_count": 25,
     "metadata": {},
     "output_type": "execute_result"
    }
   ],
   "source": [
    "students"
   ]
  },
  {
   "cell_type": "code",
   "execution_count": null,
   "metadata": {},
   "outputs": [],
   "source": []
  }
 ],
 "metadata": {
  "kernelspec": {
   "display_name": "Python 3",
   "language": "python",
   "name": "python3"
  },
  "language_info": {
   "codemirror_mode": {
    "name": "ipython",
    "version": 3
   },
   "file_extension": ".py",
   "mimetype": "text/x-python",
   "name": "python",
   "nbconvert_exporter": "python",
   "pygments_lexer": "ipython3",
   "version": "3.7.3"
  }
 },
 "nbformat": 4,
 "nbformat_minor": 2
}
